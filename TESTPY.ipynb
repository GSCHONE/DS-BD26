{
 "cells": [
  {
   "cell_type": "code",
   "execution_count": 1,
   "id": "3fb1f5f5-4947-4449-a7dd-b153381b1f80",
   "metadata": {
    "tags": []
   },
   "outputs": [
    {
     "name": "stdout",
     "output_type": "stream",
     "text": [
      "Requirement already satisfied: pyreadr in /opt/mamba/lib/python3.10/site-packages (0.4.7)\n",
      "Requirement already satisfied: pandas>=1.2.0 in /opt/mamba/lib/python3.10/site-packages (from pyreadr) (1.5.3)\n",
      "Requirement already satisfied: python-dateutil>=2.8.1 in /opt/mamba/lib/python3.10/site-packages (from pandas>=1.2.0->pyreadr) (2.8.2)\n",
      "Requirement already satisfied: pytz>=2020.1 in /opt/mamba/lib/python3.10/site-packages (from pandas>=1.2.0->pyreadr) (2022.7.1)\n",
      "Requirement already satisfied: numpy>=1.21.0 in /opt/mamba/lib/python3.10/site-packages (from pandas>=1.2.0->pyreadr) (1.23.5)\n",
      "Requirement already satisfied: six>=1.5 in /opt/mamba/lib/python3.10/site-packages (from python-dateutil>=2.8.1->pandas>=1.2.0->pyreadr) (1.16.0)\n",
      "Note: you may need to restart the kernel to use updated packages.\n"
     ]
    }
   ],
   "source": [
    "pip install pyreadr"
   ]
  },
  {
   "cell_type": "code",
   "execution_count": 2,
   "id": "ed4b7fb6-4d16-439e-a924-8c5daf8abe0f",
   "metadata": {
    "tags": []
   },
   "outputs": [
    {
     "name": "stdout",
     "output_type": "stream",
     "text": [
      "Requirement already satisfied: lazypredict in /opt/mamba/lib/python3.10/site-packages (0.2.12)\n",
      "Requirement already satisfied: lightgbm in /opt/mamba/lib/python3.10/site-packages (from lazypredict) (3.3.5)\n",
      "Requirement already satisfied: joblib in /opt/mamba/lib/python3.10/site-packages (from lazypredict) (1.2.0)\n",
      "Requirement already satisfied: scikit-learn in /opt/mamba/lib/python3.10/site-packages (from lazypredict) (1.2.1)\n",
      "Requirement already satisfied: pandas in /opt/mamba/lib/python3.10/site-packages (from lazypredict) (1.5.3)\n",
      "Requirement already satisfied: xgboost in /opt/mamba/lib/python3.10/site-packages (from lazypredict) (1.7.1)\n",
      "Requirement already satisfied: tqdm in /opt/mamba/lib/python3.10/site-packages (from lazypredict) (4.64.1)\n",
      "Requirement already satisfied: click in /opt/mamba/lib/python3.10/site-packages (from lazypredict) (8.1.3)\n",
      "Requirement already satisfied: scipy in /opt/mamba/lib/python3.10/site-packages (from lightgbm->lazypredict) (1.10.0)\n",
      "Requirement already satisfied: numpy in /opt/mamba/lib/python3.10/site-packages (from lightgbm->lazypredict) (1.23.5)\n",
      "Requirement already satisfied: wheel in /opt/mamba/lib/python3.10/site-packages (from lightgbm->lazypredict) (0.38.4)\n",
      "Requirement already satisfied: threadpoolctl>=2.0.0 in /opt/mamba/lib/python3.10/site-packages (from scikit-learn->lazypredict) (3.1.0)\n",
      "Requirement already satisfied: python-dateutil>=2.8.1 in /opt/mamba/lib/python3.10/site-packages (from pandas->lazypredict) (2.8.2)\n",
      "Requirement already satisfied: pytz>=2020.1 in /opt/mamba/lib/python3.10/site-packages (from pandas->lazypredict) (2022.7.1)\n",
      "Requirement already satisfied: six>=1.5 in /opt/mamba/lib/python3.10/site-packages (from python-dateutil>=2.8.1->pandas->lazypredict) (1.16.0)\n",
      "Note: you may need to restart the kernel to use updated packages.\n"
     ]
    }
   ],
   "source": [
    "\n",
    "pip install lazypredict\n"
   ]
  },
  {
   "cell_type": "code",
   "execution_count": 5,
   "id": "1837f073-aded-44a0-b6b2-4606685703fa",
   "metadata": {
    "tags": []
   },
   "outputs": [
    {
     "name": "stdout",
     "output_type": "stream",
     "text": [
      "Collecting sklearn\n",
      "  Downloading sklearn-0.0.post1.tar.gz (3.6 kB)\n",
      "  Preparing metadata (setup.py) ... \u001b[?25ldone\n",
      "\u001b[?25hBuilding wheels for collected packages: sklearn\n",
      "  Building wheel for sklearn (setup.py) ... \u001b[?25ldone\n",
      "\u001b[?25h  Created wheel for sklearn: filename=sklearn-0.0.post1-py3-none-any.whl size=2935 sha256=7e98affb80cf0ef8e3d6a6ad1f6a53b33081ddcca36d98017273f3097e9b55c0\n",
      "  Stored in directory: /home/onyxia/.cache/pip/wheels/c5/88/35/cc8a1e198b27a1d3d9d3f9b30090b9d5531778847835472ec4\n",
      "Successfully built sklearn\n",
      "Installing collected packages: sklearn\n",
      "Successfully installed sklearn-0.0.post1\n",
      "Note: you may need to restart the kernel to use updated packages.\n"
     ]
    }
   ],
   "source": [
    "pip install sklearn"
   ]
  },
  {
   "cell_type": "code",
   "execution_count": 7,
   "id": "8004f0b6-3183-4dcc-8159-c6b13f845f43",
   "metadata": {
    "tags": []
   },
   "outputs": [],
   "source": [
    "from lazypredict.Supervised import LazyClassifier\n",
    "from sklearn.model_selection import train_test_split\n",
    "import pyreadr"
   ]
  },
  {
   "cell_type": "code",
   "execution_count": 10,
   "id": "2ccf00a9-a281-4903-9921-2f1bad29676c",
   "metadata": {
    "tags": []
   },
   "outputs": [],
   "source": [
    "result = pyreadr.read_r('./DS-BD26/data_classif.rds') # also works for RData"
   ]
  },
  {
   "cell_type": "code",
   "execution_count": 15,
   "id": "cf95b2cf-1243-409a-9c00-785b0874354d",
   "metadata": {
    "tags": []
   },
   "outputs": [],
   "source": [
    "import pandas"
   ]
  },
  {
   "cell_type": "code",
   "execution_count": 17,
   "id": "947aabee-27e0-40dd-857b-7ced6456f515",
   "metadata": {
    "tags": []
   },
   "outputs": [
    {
     "ename": "SyntaxError",
     "evalue": "invalid syntax (769560209.py, line 1)",
     "output_type": "error",
     "traceback": [
      "\u001b[0;36m  Cell \u001b[0;32mIn[17], line 1\u001b[0;36m\u001b[0m\n\u001b[0;31m    result.class\u001b[0m\n\u001b[0m           ^\u001b[0m\n\u001b[0;31mSyntaxError\u001b[0m\u001b[0;31m:\u001b[0m invalid syntax\n"
     ]
    }
   ],
   "source": [
    "result.class"
   ]
  }
 ],
 "metadata": {
  "kernelspec": {
   "display_name": "Python 3 (ipykernel)",
   "language": "python",
   "name": "python3"
  },
  "language_info": {
   "codemirror_mode": {
    "name": "ipython",
    "version": 3
   },
   "file_extension": ".py",
   "mimetype": "text/x-python",
   "name": "python",
   "nbconvert_exporter": "python",
   "pygments_lexer": "ipython3",
   "version": "3.10.8"
  }
 },
 "nbformat": 4,
 "nbformat_minor": 5
}
