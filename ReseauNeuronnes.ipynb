{
 "cells": [
  {
   "cell_type": "code",
   "execution_count": 49,
   "id": "8cf99d5a-2e2a-4a0c-964b-0965927de55f",
   "metadata": {
    "tags": []
   },
   "outputs": [],
   "source": [
    "import numpy as np\n",
    "import pandas as pd\n",
    "import matplotlib.pyplot as plt\n",
    "from tensorflow import keras"
   ]
  },
  {
   "cell_type": "code",
   "execution_count": 50,
   "id": "60637313-813f-4360-9d2a-cc03fa3ab3c3",
   "metadata": {
    "tags": []
   },
   "outputs": [],
   "source": [
    "import os\n",
    "import s3fs"
   ]
  },
  {
   "cell_type": "code",
   "execution_count": 51,
   "id": "4980aa6f-db3d-43f4-bfdd-f5c15da2636a",
   "metadata": {
    "tags": []
   },
   "outputs": [],
   "source": [
    "# Create filesystem object\n",
    "S3_ENDPOINT_URL = \"https://\" + os.environ[\"AWS_S3_ENDPOINT\"]\n",
    "fs = s3fs.S3FileSystem(client_kwargs={'endpoint_url': S3_ENDPOINT_URL})"
   ]
  },
  {
   "cell_type": "code",
   "execution_count": 52,
   "id": "618d14f4-473b-4b33-85bd-6231924b6053",
   "metadata": {
    "tags": []
   },
   "outputs": [
    {
     "data": {
      "text/plain": [
       "['gschone/MNIST_DNN.ipynb',\n",
       " 'gschone/data_classif.rds',\n",
       " 'gschone/data_test.csv',\n",
       " 'gschone/data_train.csv',\n",
       " 'gschone/don_class.rds',\n",
       " 'gschone/resCLASUP.RDS',\n",
       " 'gschone/test.rds']"
      ]
     },
     "execution_count": 52,
     "metadata": {},
     "output_type": "execute_result"
    }
   ],
   "source": [
    "BUCKET=\"gschone\"\n",
    "fs.ls(BUCKET)"
   ]
  },
  {
   "cell_type": "code",
   "execution_count": 53,
   "id": "90528541-a672-4684-90e7-849d9b85d98c",
   "metadata": {},
   "outputs": [],
   "source": [
    "BUCKET = \"gschone\"\n",
    "FILE_KEY_S3 = \"data_test.csv\"\n",
    "FILE_PATH_S3 = BUCKET + \"/\" + FILE_KEY_S3\n",
    "\n",
    "with fs.open(FILE_PATH_S3, mode=\"rb\") as file_in:\n",
    "   df_test = pd.read_csv(file_in, sep=\",\")"
   ]
  },
  {
   "cell_type": "code",
   "execution_count": 54,
   "id": "9a44c304-81bf-4c52-afa6-0dc0f96c8d8b",
   "metadata": {
    "tags": []
   },
   "outputs": [],
   "source": [
    "BUCKET = \"gschone\"\n",
    "FILE_KEY_S3 = \"data_train.csv\"\n",
    "FILE_PATH_S3 = BUCKET + \"/\" + FILE_KEY_S3\n",
    "\n",
    "with fs.open(FILE_PATH_S3, mode=\"rb\") as file_in:\n",
    "   df_train = pd.read_csv(file_in, sep=\",\")"
   ]
  },
  {
   "cell_type": "code",
   "execution_count": 71,
   "id": "b4c1941c-4add-40b0-88ca-2c53bb2bce5c",
   "metadata": {
    "tags": []
   },
   "outputs": [
    {
     "data": {
      "text/plain": [
       "0       A\n",
       "1       A\n",
       "2       A\n",
       "3       A\n",
       "4       A\n",
       "       ..\n",
       "1818    H\n",
       "1819    H\n",
       "1820    H\n",
       "1821    H\n",
       "1822    H\n",
       "Name: Y, Length: 1823, dtype: object"
      ]
     },
     "execution_count": 71,
     "metadata": {},
     "output_type": "execute_result"
    }
   ],
   "source": [
    "df_train['Y']"
   ]
  },
  {
   "cell_type": "code",
   "execution_count": 73,
   "id": "0fcd2bce-ee41-40e3-b944-f7e44892da79",
   "metadata": {
    "tags": []
   },
   "outputs": [],
   "source": [
    "conditions = [\n",
    "    (df_train[\"Y\"]==\"H\"),\n",
    "    (df_train[\"Y\"]==\"D\"),\n",
    "    (df_train[\"Y\"]==\"A\")]\n",
    "\n",
    "choices = [0,1,2]\n",
    "df_train[\"Yok\"] = np.select(conditions, choices)"
   ]
  },
  {
   "cell_type": "code",
   "execution_count": 78,
   "id": "3755460f-8873-432a-954f-2a781aac16dc",
   "metadata": {
    "tags": []
   },
   "outputs": [],
   "source": [
    "conditions = [\n",
    "    (df_test[\"Y\"]==\"H\"),\n",
    "    (df_test[\"Y\"]==\"D\"),\n",
    "    (df_test[\"Y\"]==\"A\")]\n",
    "\n",
    "choices = [0,1,2]\n",
    "df_test[\"Yok\"] = np.select(conditions, choices)"
   ]
  },
  {
   "cell_type": "code",
   "execution_count": 81,
   "id": "f3ec14ab-eadc-4619-b6b2-fb23dc344234",
   "metadata": {
    "tags": []
   },
   "outputs": [],
   "source": [
    "x_train= df_train.drop(['Y','Yok'], axis=1)\n",
    "x_test= df_test.drop(['Y','Yok'], axis=1)\n",
    "y_train=df_train['Yok']\n",
    "y_test=df_test['Yok']"
   ]
  },
  {
   "cell_type": "code",
   "execution_count": 90,
   "id": "2880f844-62b2-40b4-a7ec-c76b718b02a0",
   "metadata": {
    "tags": []
   },
   "outputs": [],
   "source": [
    "num_layer1=100\n",
    "num_layer2=100\n",
    "model=keras.models.Sequential(name='DNN')\n",
    "model.add(keras.layers.Input(1283,name='Couche_entree'))\n",
    "model.add(keras.layers.Dense(num_layer1,activation='relu',name='Couche_cachee1'))\n",
    "model.add(keras.layers.Dense(num_layer2,activation='relu',name='Couche_cachee2'))\n",
    "model.add(keras.layers.Dense(3, activation='softmax', name='Couche_sortie'))\n"
   ]
  },
  {
   "cell_type": "code",
   "execution_count": 91,
   "id": "e19fc6c9-3a18-4361-bccf-8fa9d8694879",
   "metadata": {
    "tags": []
   },
   "outputs": [
    {
     "name": "stdout",
     "output_type": "stream",
     "text": [
      "Model: \"DNN\"\n",
      "_________________________________________________________________\n",
      " Layer (type)                Output Shape              Param #   \n",
      "=================================================================\n",
      " Couche_cachee1 (Dense)      (None, 100)               128400    \n",
      "                                                                 \n",
      " Couche_cachee2 (Dense)      (None, 100)               10100     \n",
      "                                                                 \n",
      " Couche_sortie (Dense)       (None, 3)                 303       \n",
      "                                                                 \n",
      "=================================================================\n",
      "Total params: 138,803\n",
      "Trainable params: 138,803\n",
      "Non-trainable params: 0\n",
      "_________________________________________________________________\n"
     ]
    }
   ],
   "source": [
    "model.summary()"
   ]
  },
  {
   "cell_type": "code",
   "execution_count": 92,
   "id": "73cc7716-b8ee-422c-9c36-2c8dc407fa0a",
   "metadata": {
    "tags": []
   },
   "outputs": [],
   "source": [
    "model.compile(optimizer='adam',\n",
    "                 loss='sparse_categorical_crossentropy',\n",
    "                 metrics=['accuracy'])"
   ]
  },
  {
   "cell_type": "code",
   "execution_count": 93,
   "id": "9d59e611-77e8-4bca-bf93-84013655ac74",
   "metadata": {
    "tags": []
   },
   "outputs": [
    {
     "data": {
      "text/html": [
       "<div>\n",
       "<style scoped>\n",
       "    .dataframe tbody tr th:only-of-type {\n",
       "        vertical-align: middle;\n",
       "    }\n",
       "\n",
       "    .dataframe tbody tr th {\n",
       "        vertical-align: top;\n",
       "    }\n",
       "\n",
       "    .dataframe thead th {\n",
       "        text-align: right;\n",
       "    }\n",
       "</style>\n",
       "<table border=\"1\" class=\"dataframe\">\n",
       "  <thead>\n",
       "    <tr style=\"text-align: right;\">\n",
       "      <th></th>\n",
       "      <th>Home_buildUpPlaySpeed</th>\n",
       "      <th>Home_buildUpPlayPassing</th>\n",
       "      <th>Home_chanceCreationPassing</th>\n",
       "      <th>Home_chanceCreationCrossing</th>\n",
       "      <th>Home_chanceCreationShooting</th>\n",
       "      <th>Home_defencePressure</th>\n",
       "      <th>Home_defenceAggression</th>\n",
       "      <th>Home_defenceTeamWidth</th>\n",
       "      <th>Away_buildUpPlaySpeed</th>\n",
       "      <th>Away_buildUpPlayPassing</th>\n",
       "      <th>...</th>\n",
       "      <th>H10_overall_rating_ns_3</th>\n",
       "      <th>A10_overall_rating_ns_1</th>\n",
       "      <th>A10_overall_rating_ns_2</th>\n",
       "      <th>A10_overall_rating_ns_3</th>\n",
       "      <th>H11_overall_rating_ns_1</th>\n",
       "      <th>H11_overall_rating_ns_2</th>\n",
       "      <th>H11_overall_rating_ns_3</th>\n",
       "      <th>A11_overall_rating_ns_1</th>\n",
       "      <th>A11_overall_rating_ns_2</th>\n",
       "      <th>A11_overall_rating_ns_3</th>\n",
       "    </tr>\n",
       "  </thead>\n",
       "  <tbody>\n",
       "    <tr>\n",
       "      <th>0</th>\n",
       "      <td>1.228592</td>\n",
       "      <td>1.333618</td>\n",
       "      <td>1.701760</td>\n",
       "      <td>1.062186</td>\n",
       "      <td>-0.297978</td>\n",
       "      <td>-0.980282</td>\n",
       "      <td>1.733190</td>\n",
       "      <td>-1.743878</td>\n",
       "      <td>1.228592</td>\n",
       "      <td>1.333618</td>\n",
       "      <td>...</td>\n",
       "      <td>-0.264275</td>\n",
       "      <td>-0.024107</td>\n",
       "      <td>0.553293</td>\n",
       "      <td>-0.319207</td>\n",
       "      <td>-0.094465</td>\n",
       "      <td>0.515357</td>\n",
       "      <td>-0.300625</td>\n",
       "      <td>-0.076819</td>\n",
       "      <td>0.532216</td>\n",
       "      <td>-0.315387</td>\n",
       "    </tr>\n",
       "    <tr>\n",
       "      <th>1</th>\n",
       "      <td>-0.142604</td>\n",
       "      <td>1.333618</td>\n",
       "      <td>0.799448</td>\n",
       "      <td>1.062186</td>\n",
       "      <td>0.156257</td>\n",
       "      <td>0.018986</td>\n",
       "      <td>1.733190</td>\n",
       "      <td>-0.633128</td>\n",
       "      <td>1.228592</td>\n",
       "      <td>0.561848</td>\n",
       "      <td>...</td>\n",
       "      <td>-0.288107</td>\n",
       "      <td>0.075555</td>\n",
       "      <td>0.358990</td>\n",
       "      <td>0.563986</td>\n",
       "      <td>0.320899</td>\n",
       "      <td>0.490268</td>\n",
       "      <td>-0.285246</td>\n",
       "      <td>0.448575</td>\n",
       "      <td>0.332462</td>\n",
       "      <td>0.181773</td>\n",
       "    </tr>\n",
       "    <tr>\n",
       "      <th>2</th>\n",
       "      <td>-0.142604</td>\n",
       "      <td>1.333618</td>\n",
       "      <td>1.701760</td>\n",
       "      <td>1.062186</td>\n",
       "      <td>-0.752213</td>\n",
       "      <td>-0.980282</td>\n",
       "      <td>1.733190</td>\n",
       "      <td>-1.743878</td>\n",
       "      <td>-0.599670</td>\n",
       "      <td>-1.367576</td>\n",
       "      <td>...</td>\n",
       "      <td>-0.288107</td>\n",
       "      <td>0.579401</td>\n",
       "      <td>0.372723</td>\n",
       "      <td>-0.135779</td>\n",
       "      <td>0.415672</td>\n",
       "      <td>0.455384</td>\n",
       "      <td>-0.259688</td>\n",
       "      <td>0.280121</td>\n",
       "      <td>0.343233</td>\n",
       "      <td>0.365626</td>\n",
       "    </tr>\n",
       "    <tr>\n",
       "      <th>3</th>\n",
       "      <td>1.228592</td>\n",
       "      <td>1.333618</td>\n",
       "      <td>1.701760</td>\n",
       "      <td>1.062186</td>\n",
       "      <td>1.518962</td>\n",
       "      <td>2.517155</td>\n",
       "      <td>1.733190</td>\n",
       "      <td>2.143748</td>\n",
       "      <td>0.862940</td>\n",
       "      <td>-1.753460</td>\n",
       "      <td>...</td>\n",
       "      <td>-0.321808</td>\n",
       "      <td>0.564481</td>\n",
       "      <td>0.343241</td>\n",
       "      <td>-0.001754</td>\n",
       "      <td>0.415672</td>\n",
       "      <td>0.455384</td>\n",
       "      <td>-0.259688</td>\n",
       "      <td>0.555619</td>\n",
       "      <td>0.337184</td>\n",
       "      <td>0.019042</td>\n",
       "    </tr>\n",
       "    <tr>\n",
       "      <th>4</th>\n",
       "      <td>1.228592</td>\n",
       "      <td>0.561848</td>\n",
       "      <td>1.250604</td>\n",
       "      <td>1.062186</td>\n",
       "      <td>0.610492</td>\n",
       "      <td>0.018986</td>\n",
       "      <td>1.268528</td>\n",
       "      <td>-0.633128</td>\n",
       "      <td>-0.142604</td>\n",
       "      <td>1.333618</td>\n",
       "      <td>...</td>\n",
       "      <td>-0.316017</td>\n",
       "      <td>0.146667</td>\n",
       "      <td>0.541958</td>\n",
       "      <td>-0.312668</td>\n",
       "      <td>-0.066975</td>\n",
       "      <td>0.535476</td>\n",
       "      <td>-0.312361</td>\n",
       "      <td>0.180847</td>\n",
       "      <td>0.533189</td>\n",
       "      <td>-0.315964</td>\n",
       "    </tr>\n",
       "    <tr>\n",
       "      <th>...</th>\n",
       "      <td>...</td>\n",
       "      <td>...</td>\n",
       "      <td>...</td>\n",
       "      <td>...</td>\n",
       "      <td>...</td>\n",
       "      <td>...</td>\n",
       "      <td>...</td>\n",
       "      <td>...</td>\n",
       "      <td>...</td>\n",
       "      <td>...</td>\n",
       "      <td>...</td>\n",
       "      <td>...</td>\n",
       "      <td>...</td>\n",
       "      <td>...</td>\n",
       "      <td>...</td>\n",
       "      <td>...</td>\n",
       "      <td>...</td>\n",
       "      <td>...</td>\n",
       "      <td>...</td>\n",
       "      <td>...</td>\n",
       "      <td>...</td>\n",
       "    </tr>\n",
       "    <tr>\n",
       "      <th>1818</th>\n",
       "      <td>0.223048</td>\n",
       "      <td>-2.062168</td>\n",
       "      <td>-2.087949</td>\n",
       "      <td>-0.345304</td>\n",
       "      <td>0.973880</td>\n",
       "      <td>0.618547</td>\n",
       "      <td>-0.683054</td>\n",
       "      <td>0.144398</td>\n",
       "      <td>-0.965322</td>\n",
       "      <td>0.098787</td>\n",
       "      <td>...</td>\n",
       "      <td>0.257900</td>\n",
       "      <td>0.546608</td>\n",
       "      <td>0.396907</td>\n",
       "      <td>-0.187959</td>\n",
       "      <td>0.588505</td>\n",
       "      <td>0.363739</td>\n",
       "      <td>-0.120217</td>\n",
       "      <td>0.180847</td>\n",
       "      <td>0.533189</td>\n",
       "      <td>-0.315964</td>\n",
       "    </tr>\n",
       "    <tr>\n",
       "      <th>1819</th>\n",
       "      <td>0.954353</td>\n",
       "      <td>-1.136045</td>\n",
       "      <td>-0.914944</td>\n",
       "      <td>0.217692</td>\n",
       "      <td>1.337268</td>\n",
       "      <td>-0.580575</td>\n",
       "      <td>-0.961851</td>\n",
       "      <td>-0.522053</td>\n",
       "      <td>0.862940</td>\n",
       "      <td>1.487972</td>\n",
       "      <td>...</td>\n",
       "      <td>0.077494</td>\n",
       "      <td>-0.024107</td>\n",
       "      <td>0.553293</td>\n",
       "      <td>-0.319207</td>\n",
       "      <td>0.324850</td>\n",
       "      <td>0.339254</td>\n",
       "      <td>0.321150</td>\n",
       "      <td>0.180847</td>\n",
       "      <td>0.533189</td>\n",
       "      <td>-0.315964</td>\n",
       "    </tr>\n",
       "    <tr>\n",
       "      <th>1820</th>\n",
       "      <td>0.223048</td>\n",
       "      <td>-1.830637</td>\n",
       "      <td>-1.727024</td>\n",
       "      <td>-0.908300</td>\n",
       "      <td>0.792186</td>\n",
       "      <td>-0.280794</td>\n",
       "      <td>-0.683054</td>\n",
       "      <td>0.366548</td>\n",
       "      <td>-0.873909</td>\n",
       "      <td>-0.364275</td>\n",
       "      <td>...</td>\n",
       "      <td>-0.137387</td>\n",
       "      <td>-0.130676</td>\n",
       "      <td>0.440725</td>\n",
       "      <td>-0.254265</td>\n",
       "      <td>0.585039</td>\n",
       "      <td>0.347058</td>\n",
       "      <td>-0.050069</td>\n",
       "      <td>-0.004071</td>\n",
       "      <td>0.555713</td>\n",
       "      <td>-0.329312</td>\n",
       "    </tr>\n",
       "    <tr>\n",
       "      <th>1821</th>\n",
       "      <td>-0.234018</td>\n",
       "      <td>-0.441452</td>\n",
       "      <td>-0.373557</td>\n",
       "      <td>-0.720635</td>\n",
       "      <td>-1.297296</td>\n",
       "      <td>1.118181</td>\n",
       "      <td>0.246271</td>\n",
       "      <td>0.033323</td>\n",
       "      <td>-1.056736</td>\n",
       "      <td>0.870556</td>\n",
       "      <td>...</td>\n",
       "      <td>-0.321808</td>\n",
       "      <td>-0.024107</td>\n",
       "      <td>0.553293</td>\n",
       "      <td>-0.319207</td>\n",
       "      <td>0.320899</td>\n",
       "      <td>0.490268</td>\n",
       "      <td>-0.285246</td>\n",
       "      <td>0.440407</td>\n",
       "      <td>0.442895</td>\n",
       "      <td>-0.248959</td>\n",
       "    </tr>\n",
       "    <tr>\n",
       "      <th>1822</th>\n",
       "      <td>-0.142604</td>\n",
       "      <td>-0.132744</td>\n",
       "      <td>0.167830</td>\n",
       "      <td>-0.532970</td>\n",
       "      <td>0.337951</td>\n",
       "      <td>-0.380721</td>\n",
       "      <td>-1.054783</td>\n",
       "      <td>-0.188828</td>\n",
       "      <td>0.314461</td>\n",
       "      <td>0.639025</td>\n",
       "      <td>...</td>\n",
       "      <td>-0.321808</td>\n",
       "      <td>0.314273</td>\n",
       "      <td>0.494071</td>\n",
       "      <td>-0.284400</td>\n",
       "      <td>0.560301</td>\n",
       "      <td>0.387996</td>\n",
       "      <td>-0.178712</td>\n",
       "      <td>0.264064</td>\n",
       "      <td>0.508756</td>\n",
       "      <td>-0.301022</td>\n",
       "    </tr>\n",
       "  </tbody>\n",
       "</table>\n",
       "<p>1823 rows × 1283 columns</p>\n",
       "</div>"
      ],
      "text/plain": [
       "      Home_buildUpPlaySpeed  Home_buildUpPlayPassing  \\\n",
       "0                  1.228592                 1.333618   \n",
       "1                 -0.142604                 1.333618   \n",
       "2                 -0.142604                 1.333618   \n",
       "3                  1.228592                 1.333618   \n",
       "4                  1.228592                 0.561848   \n",
       "...                     ...                      ...   \n",
       "1818               0.223048                -2.062168   \n",
       "1819               0.954353                -1.136045   \n",
       "1820               0.223048                -1.830637   \n",
       "1821              -0.234018                -0.441452   \n",
       "1822              -0.142604                -0.132744   \n",
       "\n",
       "      Home_chanceCreationPassing  Home_chanceCreationCrossing  \\\n",
       "0                       1.701760                     1.062186   \n",
       "1                       0.799448                     1.062186   \n",
       "2                       1.701760                     1.062186   \n",
       "3                       1.701760                     1.062186   \n",
       "4                       1.250604                     1.062186   \n",
       "...                          ...                          ...   \n",
       "1818                   -2.087949                    -0.345304   \n",
       "1819                   -0.914944                     0.217692   \n",
       "1820                   -1.727024                    -0.908300   \n",
       "1821                   -0.373557                    -0.720635   \n",
       "1822                    0.167830                    -0.532970   \n",
       "\n",
       "      Home_chanceCreationShooting  Home_defencePressure  \\\n",
       "0                       -0.297978             -0.980282   \n",
       "1                        0.156257              0.018986   \n",
       "2                       -0.752213             -0.980282   \n",
       "3                        1.518962              2.517155   \n",
       "4                        0.610492              0.018986   \n",
       "...                           ...                   ...   \n",
       "1818                     0.973880              0.618547   \n",
       "1819                     1.337268             -0.580575   \n",
       "1820                     0.792186             -0.280794   \n",
       "1821                    -1.297296              1.118181   \n",
       "1822                     0.337951             -0.380721   \n",
       "\n",
       "      Home_defenceAggression  Home_defenceTeamWidth  Away_buildUpPlaySpeed  \\\n",
       "0                   1.733190              -1.743878               1.228592   \n",
       "1                   1.733190              -0.633128               1.228592   \n",
       "2                   1.733190              -1.743878              -0.599670   \n",
       "3                   1.733190               2.143748               0.862940   \n",
       "4                   1.268528              -0.633128              -0.142604   \n",
       "...                      ...                    ...                    ...   \n",
       "1818               -0.683054               0.144398              -0.965322   \n",
       "1819               -0.961851              -0.522053               0.862940   \n",
       "1820               -0.683054               0.366548              -0.873909   \n",
       "1821                0.246271               0.033323              -1.056736   \n",
       "1822               -1.054783              -0.188828               0.314461   \n",
       "\n",
       "      Away_buildUpPlayPassing  ...  H10_overall_rating_ns_3  \\\n",
       "0                    1.333618  ...                -0.264275   \n",
       "1                    0.561848  ...                -0.288107   \n",
       "2                   -1.367576  ...                -0.288107   \n",
       "3                   -1.753460  ...                -0.321808   \n",
       "4                    1.333618  ...                -0.316017   \n",
       "...                       ...  ...                      ...   \n",
       "1818                 0.098787  ...                 0.257900   \n",
       "1819                 1.487972  ...                 0.077494   \n",
       "1820                -0.364275  ...                -0.137387   \n",
       "1821                 0.870556  ...                -0.321808   \n",
       "1822                 0.639025  ...                -0.321808   \n",
       "\n",
       "      A10_overall_rating_ns_1  A10_overall_rating_ns_2  \\\n",
       "0                   -0.024107                 0.553293   \n",
       "1                    0.075555                 0.358990   \n",
       "2                    0.579401                 0.372723   \n",
       "3                    0.564481                 0.343241   \n",
       "4                    0.146667                 0.541958   \n",
       "...                       ...                      ...   \n",
       "1818                 0.546608                 0.396907   \n",
       "1819                -0.024107                 0.553293   \n",
       "1820                -0.130676                 0.440725   \n",
       "1821                -0.024107                 0.553293   \n",
       "1822                 0.314273                 0.494071   \n",
       "\n",
       "      A10_overall_rating_ns_3  H11_overall_rating_ns_1  \\\n",
       "0                   -0.319207                -0.094465   \n",
       "1                    0.563986                 0.320899   \n",
       "2                   -0.135779                 0.415672   \n",
       "3                   -0.001754                 0.415672   \n",
       "4                   -0.312668                -0.066975   \n",
       "...                       ...                      ...   \n",
       "1818                -0.187959                 0.588505   \n",
       "1819                -0.319207                 0.324850   \n",
       "1820                -0.254265                 0.585039   \n",
       "1821                -0.319207                 0.320899   \n",
       "1822                -0.284400                 0.560301   \n",
       "\n",
       "      H11_overall_rating_ns_2  H11_overall_rating_ns_3  \\\n",
       "0                    0.515357                -0.300625   \n",
       "1                    0.490268                -0.285246   \n",
       "2                    0.455384                -0.259688   \n",
       "3                    0.455384                -0.259688   \n",
       "4                    0.535476                -0.312361   \n",
       "...                       ...                      ...   \n",
       "1818                 0.363739                -0.120217   \n",
       "1819                 0.339254                 0.321150   \n",
       "1820                 0.347058                -0.050069   \n",
       "1821                 0.490268                -0.285246   \n",
       "1822                 0.387996                -0.178712   \n",
       "\n",
       "      A11_overall_rating_ns_1  A11_overall_rating_ns_2  \\\n",
       "0                   -0.076819                 0.532216   \n",
       "1                    0.448575                 0.332462   \n",
       "2                    0.280121                 0.343233   \n",
       "3                    0.555619                 0.337184   \n",
       "4                    0.180847                 0.533189   \n",
       "...                       ...                      ...   \n",
       "1818                 0.180847                 0.533189   \n",
       "1819                 0.180847                 0.533189   \n",
       "1820                -0.004071                 0.555713   \n",
       "1821                 0.440407                 0.442895   \n",
       "1822                 0.264064                 0.508756   \n",
       "\n",
       "      A11_overall_rating_ns_3  \n",
       "0                   -0.315387  \n",
       "1                    0.181773  \n",
       "2                    0.365626  \n",
       "3                    0.019042  \n",
       "4                   -0.315964  \n",
       "...                       ...  \n",
       "1818                -0.315964  \n",
       "1819                -0.315964  \n",
       "1820                -0.329312  \n",
       "1821                -0.248959  \n",
       "1822                -0.301022  \n",
       "\n",
       "[1823 rows x 1283 columns]"
      ]
     },
     "execution_count": 93,
     "metadata": {},
     "output_type": "execute_result"
    }
   ],
   "source": [
    "x_train\n",
    "\n"
   ]
  },
  {
   "cell_type": "code",
   "execution_count": 94,
   "id": "f53e27cf-8833-47ea-a3d8-bf9d9a1dbba0",
   "metadata": {
    "tags": []
   },
   "outputs": [
    {
     "name": "stdout",
     "output_type": "stream",
     "text": [
      "Epoch 1/20\n",
      "3/3 [==============================] - 1s 148ms/step - loss: 1.1602 - accuracy: 0.3594 - val_loss: 1.6129 - val_accuracy: 0.2247\n",
      "Epoch 2/20\n",
      "3/3 [==============================] - 0s 41ms/step - loss: 0.8935 - accuracy: 0.5562 - val_loss: 2.0618 - val_accuracy: 0.1507\n",
      "Epoch 3/20\n",
      "3/3 [==============================] - 0s 41ms/step - loss: 0.7818 - accuracy: 0.6564 - val_loss: 2.5197 - val_accuracy: 0.1041\n",
      "Epoch 4/20\n",
      "3/3 [==============================] - 0s 39ms/step - loss: 0.6879 - accuracy: 0.7435 - val_loss: 2.8844 - val_accuracy: 0.1123\n",
      "Epoch 5/20\n",
      "3/3 [==============================] - 0s 50ms/step - loss: 0.6051 - accuracy: 0.7833 - val_loss: 3.2455 - val_accuracy: 0.1068\n",
      "Epoch 6/20\n",
      "3/3 [==============================] - 0s 37ms/step - loss: 0.5353 - accuracy: 0.8230 - val_loss: 3.5581 - val_accuracy: 0.1068\n",
      "Epoch 7/20\n",
      "3/3 [==============================] - 0s 37ms/step - loss: 0.4685 - accuracy: 0.8772 - val_loss: 3.8258 - val_accuracy: 0.1041\n",
      "Epoch 8/20\n",
      "3/3 [==============================] - 0s 40ms/step - loss: 0.4083 - accuracy: 0.9095 - val_loss: 4.0546 - val_accuracy: 0.1068\n",
      "Epoch 9/20\n",
      "3/3 [==============================] - 0s 39ms/step - loss: 0.3529 - accuracy: 0.9307 - val_loss: 4.4138 - val_accuracy: 0.0986\n",
      "Epoch 10/20\n",
      "3/3 [==============================] - 0s 46ms/step - loss: 0.3016 - accuracy: 0.9547 - val_loss: 4.7009 - val_accuracy: 0.0822\n",
      "Epoch 11/20\n",
      "3/3 [==============================] - 0s 48ms/step - loss: 0.2563 - accuracy: 0.9726 - val_loss: 4.8618 - val_accuracy: 0.0904\n",
      "Epoch 12/20\n",
      "3/3 [==============================] - 0s 37ms/step - loss: 0.2146 - accuracy: 0.9774 - val_loss: 5.1071 - val_accuracy: 0.0959\n",
      "Epoch 13/20\n",
      "3/3 [==============================] - 0s 36ms/step - loss: 0.1792 - accuracy: 0.9890 - val_loss: 5.3840 - val_accuracy: 0.0849\n",
      "Epoch 14/20\n",
      "3/3 [==============================] - 0s 54ms/step - loss: 0.1465 - accuracy: 0.9952 - val_loss: 5.5739 - val_accuracy: 0.0986\n",
      "Epoch 15/20\n",
      "3/3 [==============================] - 0s 38ms/step - loss: 0.1191 - accuracy: 0.9979 - val_loss: 5.9161 - val_accuracy: 0.0932\n",
      "Epoch 16/20\n",
      "3/3 [==============================] - 0s 39ms/step - loss: 0.0975 - accuracy: 0.9986 - val_loss: 6.2122 - val_accuracy: 0.0932\n",
      "Epoch 17/20\n",
      "3/3 [==============================] - 0s 47ms/step - loss: 0.0788 - accuracy: 1.0000 - val_loss: 6.4903 - val_accuracy: 0.0959\n",
      "Epoch 18/20\n",
      "3/3 [==============================] - 0s 37ms/step - loss: 0.0641 - accuracy: 1.0000 - val_loss: 6.7439 - val_accuracy: 0.0932\n",
      "Epoch 19/20\n",
      "3/3 [==============================] - 0s 38ms/step - loss: 0.0522 - accuracy: 1.0000 - val_loss: 6.9940 - val_accuracy: 0.0959\n",
      "Epoch 20/20\n",
      "3/3 [==============================] - 0s 35ms/step - loss: 0.0428 - accuracy: 1.0000 - val_loss: 7.1824 - val_accuracy: 0.0959\n"
     ]
    }
   ],
   "source": [
    "hist = model.fit(x_train,\n",
    "                 y_train,\n",
    "                 batch_size=500,\n",
    "                 epochs=20,\n",
    "                 validation_split=0.2)"
   ]
  },
  {
   "cell_type": "code",
   "execution_count": 97,
   "id": "44e0996d-fd41-49db-8c54-bad5aac797d3",
   "metadata": {
    "tags": []
   },
   "outputs": [
    {
     "data": {
      "image/png": "[encoded data removed]",
      "text/plain": [
       "<Figure size 2000x1000 with 1 Axes>"
      ]
     },
     "metadata": {},
     "output_type": "display_data"
    }
   ],
   "source": [
    "figure = plt.gcf()\n",
    "figure.set_size_inches((20, 10))\n",
    "plt.title('Analyse des erreurs')\n",
    "plt.xlabel('Epoch')\n",
    "plt.ylabel('Entropie croisée')\n",
    "plt.plot(range(1, len(hist.history['loss']) + 1), hist.history['loss'])\n",
    "plt.plot(range(1, len(hist.history['val_loss']) + 1), hist.history['val_loss'])\n",
    "plt.legend(['Entropie croisée train', 'Entropie croisée validation'])\n",
    "plt.show()"
   ]
  },
  {
   "cell_type": "code",
   "execution_count": 98,
   "id": "d6b0c990-b986-484b-a997-904f1f208815",
   "metadata": {},
   "outputs": [
    {
     "data": {
      "image/png": "[encoded data removed]",
      "text/plain": [
       "<Figure size 2000x1000 with 1 Axes>"
      ]
     },
     "metadata": {},
     "output_type": "display_data"
    }
   ],
   "source": [
    "figure = plt.gcf()\n",
    "figure.set_size_inches((20, 10))\n",
    "plt.title('Analyse des erreurs')\n",
    "plt.xlabel('Epoch')\n",
    "plt.ylabel('Précision')\n",
    "plt.plot(range(1, len(hist.history['accuracy']) + 1), hist.history['accuracy'])\n",
    "plt.plot(range(1, len(hist.history['val_accuracy']) + 1), hist.history['val_accuracy'])\n",
    "plt.legend(['Précision apprentissage', 'Précision validation'])\n",
    "plt.show()"
   ]
  },
  {
   "cell_type": "code",
   "execution_count": 100,
   "id": "57e8178a-43f5-4fc6-856c-a3ff45596cb3",
   "metadata": {
    "tags": []
   },
   "outputs": [
    {
     "name": "stdout",
     "output_type": "stream",
     "text": [
      "15/15 [==============================] - 0s 3ms/step\n"
     ]
    }
   ],
   "source": [
    "test=model.predict(x_test)"
   ]
  },
  {
   "cell_type": "code",
   "execution_count": 104,
   "id": "ae577f8e-9d99-43ce-b951-e016ce27a9cd",
   "metadata": {
    "tags": []
   },
   "outputs": [
    {
     "data": {
      "text/plain": [
       "2"
      ]
     },
     "execution_count": 104,
     "metadata": {},
     "output_type": "execute_result"
    }
   ],
   "source": [
    "test.ndim"
   ]
  }
 ],
 "metadata": {
  "kernelspec": {
   "display_name": "Python 3 (ipykernel)",
   "language": "python",
   "name": "python3"
  },
  "language_info": {
   "codemirror_mode": {
    "name": "ipython",
    "version": 3
   },
   "file_extension": ".py",
   "mimetype": "text/x-python",
   "name": "python",
   "nbconvert_exporter": "python",
   "pygments_lexer": "ipython3",
   "version": "3.10.8"
  }
 },
 "nbformat": 4,
 "nbformat_minor": 5
}
